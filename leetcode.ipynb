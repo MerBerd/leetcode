{
 "cells": [
  {
   "cell_type": "markdown",
   "id": "30f0c19a-98a2-440b-a82f-42d5cf5db63c",
   "metadata": {},
   "source": [
    "## 1356. Sort Integers by The Number of 1 Bits (Easy)"
   ]
  },
  {
   "cell_type": "code",
   "execution_count": 2,
   "id": "5f81804a-a3c4-494c-bf8b-0f70ab5ced0e",
   "metadata": {},
   "outputs": [],
   "source": [
    "def bit_count(number):\n",
    "    return bin(number)[2:].count('1')\n",
    "\n",
    "def sortByBits(self, arr):\n",
    "  \n",
    "    arr.sort(key=lambda x: (bit_count(x), x))\n",
    "\n",
    "    return arr\n",
    "    \n",
    "        "
   ]
  },
  {
   "cell_type": "markdown",
   "id": "199a8e11-f399-4243-8d12-efc6de34a237",
   "metadata": {},
   "source": [
    "## No. Problem: Contains Duplicate (NOT SOLVED)\n",
    "\n",
    "Given an integer array `nums`, return `true` if any value appears **at least twice** in the array, and return `false` if every element is **distinct**.\n",
    "\n",
    "### Example 1\n",
    "\n",
    "**Input:**  \n",
    "`nums = [1, 2, 3, 1]`\n",
    "\n",
    "**Output:**  \n",
    "`true`\n",
    "\n",
    "**Explanation:**  \n",
    "The element `1` occurs at the indices `0` and `3`.\n",
    "\n",
    "---\n",
    "\n",
    "### Example 2\n",
    "\n",
    "**Input:**  \n",
    "`nums = [1, 2, 3, 4]`\n",
    "\n",
    "**Output:**  \n",
    "`false`\n",
    "\n",
    "**Explanation:**  \n",
    "All elements are distinct.\n",
    "\n",
    "---\n",
    "\n",
    "### Example 3\n",
    "\n",
    "**Input:**  \n",
    "`nums = [1, 1, 1, 3, 3, 4, 3, 2, 4, 2]`\n",
    "\n",
    "**Output:**  \n",
    "`true`\n",
    "\n",
    "---\n",
    "\n",
    "### Constraints\n",
    "\n",
    "- `1 <= nums.length <= 10⁵`  \n",
    "- `-10⁹ <= nums[i] <= 10⁹`\n"
   ]
  },
  {
   "cell_type": "code",
   "execution_count": 6,
   "id": "0f5584bf-e678-4468-9225-ee51d03702ca",
   "metadata": {},
   "outputs": [],
   "source": [
    "def containsDuplicate(nums):\n",
    "    data = {}\n",
    "\n",
    "    for number in nums:\n",
    "        if not number in data:\n",
    "            data[number] = nums.count(number) > 1\n",
    "\n",
    "    #return any(data[number] > 1 for number in data)\n",
    "    return True in data.values()"
   ]
  },
  {
   "cell_type": "code",
   "execution_count": 8,
   "id": "9786e0d0-14e4-464f-923b-82e32656e6a4",
   "metadata": {},
   "outputs": [
    {
     "data": {
      "text/plain": [
       "True"
      ]
     },
     "execution_count": 8,
     "metadata": {},
     "output_type": "execute_result"
    }
   ],
   "source": [
    "containsDuplicate([1,1,1,3,3,4,3,2,4,2])"
   ]
  },
  {
   "cell_type": "markdown",
   "id": "3442475e-9cae-430a-b7c3-e81143b1c32c",
   "metadata": {},
   "source": [
    "## 46. Permutations (Medium)"
   ]
  },
  {
   "cell_type": "code",
   "execution_count": 57,
   "id": "8cc1e276-7d5d-4921-a5e4-be89e03eae15",
   "metadata": {},
   "outputs": [],
   "source": [
    "def permute(nums):\n",
    "    result = []\n",
    "    n = len(nums)\n",
    "    if n == 1:\n",
    "        return [nums]\n",
    "\n",
    "    for i in range(n):\n",
    "        for l in permute(nums[:i]+nums[i+1:]):\n",
    "            #print(l)\n",
    "            result.append([nums[i]]+l)\n",
    "        #result.append([nums[i]] + permute(nums[:i]+nums[i+1:]))\n",
    "    #print(result)\n",
    "    return result"
   ]
  },
  {
   "cell_type": "code",
   "execution_count": 61,
   "id": "e283aa32-6022-46a1-8ca0-9854ef9bd74e",
   "metadata": {},
   "outputs": [
    {
     "data": {
      "text/plain": [
       "[[1, 2], [2, 1]]"
      ]
     },
     "execution_count": 61,
     "metadata": {},
     "output_type": "execute_result"
    }
   ],
   "source": [
    "permute([1, 2])"
   ]
  },
  {
   "cell_type": "markdown",
   "id": "0117f155-a110-4b57-9cc7-aaadf6f41aa0",
   "metadata": {},
   "source": [
    "## No. Subsets (Medium)"
   ]
  },
  {
   "cell_type": "code",
   "execution_count": 119,
   "id": "b822c860-fa3e-4f5c-9f08-595f566f4133",
   "metadata": {},
   "outputs": [],
   "source": [
    "def subsets(nums):\n",
    "    n = len(nums)\n",
    "    result = []\n",
    "    for i in range(2**n):\n",
    "        result.append('0'*(len(nums)-len(bin(i)[2:])) + bin(i)[2:])\n",
    "\n",
    "    res = []\n",
    "\n",
    "    for i in result:\n",
    "        temp = []\n",
    "        for j in range(len(i)):\n",
    "            \n",
    "            if i[j] == '1':\n",
    "                temp.append(nums[j])\n",
    "\n",
    "        res.append(temp)\n",
    "            \n",
    "\n",
    "\n",
    "    return res\n",
    "    \n",
    "        \n",
    "        "
   ]
  },
  {
   "cell_type": "code",
   "execution_count": 59,
   "id": "aba752be-e04d-44ec-a1e5-f80b5383bd70",
   "metadata": {},
   "outputs": [
    {
     "data": {
      "text/plain": [
       "[[], [3], [2], [2, 3], [1], [1, 3], [1, 2], [1, 2, 3]]"
      ]
     },
     "execution_count": 59,
     "metadata": {},
     "output_type": "execute_result"
    }
   ],
   "source": [
    "subsets([1, 2, 3])"
   ]
  },
  {
   "cell_type": "code",
   "execution_count": 15,
   "id": "5119bcc9-44dc-4ad3-ad5d-7da558645293",
   "metadata": {},
   "outputs": [],
   "source": [
    "def gcd(a, b):\n",
    "    while a!=b:\n",
    "        if a>b:\n",
    "            a = a-b\n",
    "        else:\n",
    "            b = b-a\n",
    "        \n",
    "\n",
    "    return a"
   ]
  },
  {
   "cell_type": "code",
   "execution_count": 3,
   "id": "59eef13e-6a00-4ae2-8810-b874bb283f83",
   "metadata": {},
   "outputs": [
    {
     "name": "stdout",
     "output_type": "stream",
     "text": [
      "1 5\n",
      "1 4\n",
      "1 3\n",
      "1 2\n",
      "1 1\n"
     ]
    },
    {
     "data": {
      "text/plain": [
       "1"
      ]
     },
     "execution_count": 3,
     "metadata": {},
     "output_type": "execute_result"
    }
   ],
   "source": [
    "gcd(6, 5)"
   ]
  },
  {
   "cell_type": "code",
   "execution_count": 10,
   "id": "9a248b1a-12d0-477d-83c5-71ee2806d1c5",
   "metadata": {},
   "outputs": [],
   "source": [
    "class Node:\n",
    "    def __init__(self, val, next=None):\n",
    "        self.val = val\n",
    "        self.next = next\n",
    "\n",
    "\n",
    "n1 = Node(10)\n",
    "n2 = Node(18)\n",
    "n3 = Node(6)\n",
    "n4 = Node(12)\n",
    "\n",
    "n1.next = n2\n",
    "n2.next = n3\n",
    "n3.next = n4\n",
    "\n",
    "def print_vals(head):\n",
    "    result = []\n",
    "    while head.next != None:\n",
    "        result.append(head.val)\n",
    "        head = head.next\n",
    "\n",
    "    result.append(head.val)\n",
    "    return result\n",
    "\n",
    "\n",
    "        "
   ]
  },
  {
   "cell_type": "code",
   "execution_count": 21,
   "id": "b59ec311-e88f-4c43-a4f6-4b43eb3aeec1",
   "metadata": {},
   "outputs": [],
   "source": [
    "def gcd(a, b):\n",
    "    while a!=b:\n",
    "        if a>b:\n",
    "            a = a-b\n",
    "        else:\n",
    "            b = b-a\n",
    "        \n",
    "\n",
    "    return a\n",
    "\n",
    "\n",
    "def solution(head):\n",
    "    while head.next != None:\n",
    "        current_val = head.val\n",
    "        next_val = head.next.val\n",
    "        gcd_ = gcd(current_val, next_val)\n",
    "        gcd_node = Node(gcd_)\n",
    "        tmp = head.next\n",
    "        head.next = gcd_node\n",
    "        gcd_node.next = tmp\n",
    "        head = tmp\n"
   ]
  },
  {
   "cell_type": "code",
   "execution_count": 22,
   "id": "39bb1660-525a-43cf-9bb8-97942f35831e",
   "metadata": {},
   "outputs": [],
   "source": [
    "solution(n1)"
   ]
  },
  {
   "cell_type": "code",
   "execution_count": 23,
   "id": "7001db1b-f3d2-41f5-ac96-e5c38fc219eb",
   "metadata": {},
   "outputs": [
    {
     "data": {
      "text/plain": [
       "[10, 2, 18, 6, 6, 6, 12]"
      ]
     },
     "execution_count": 23,
     "metadata": {},
     "output_type": "execute_result"
    }
   ],
   "source": [
    "print_vals(n1)"
   ]
  },
  {
   "cell_type": "code",
   "execution_count": 1,
   "id": "9c1531ae-3f35-459a-8190-030a17827bbb",
   "metadata": {},
   "outputs": [],
   "source": [
    "class Solution(object):\n",
    "    def groupAnagrams(self, strs):\n",
    "        \"\"\"\n",
    "        :type strs: List[str]\n",
    "        :rtype: List[List[str]]\n",
    "        \"\"\"\n",
    "        data = {}\n",
    "        for s in strs:\n",
    "            s_sorted = ''.join(sorted(s))\n",
    "            if not s_sorted in data:\n",
    "                data[s_sorted] = []\n",
    "                data[s_sorted].append(s)\n",
    "            else:\n",
    "                data[s_sorted].append(s)\n",
    "            \n",
    "        return list(data.values())\n",
    "\n",
    "            \n",
    "        "
   ]
  },
  {
   "cell_type": "code",
   "execution_count": 2,
   "id": "c4b5b86e-d487-4c35-abf1-d876c49e59cf",
   "metadata": {},
   "outputs": [],
   "source": [
    "sol = Solution()"
   ]
  },
  {
   "cell_type": "code",
   "execution_count": 3,
   "id": "b0002c86-d9b9-4ded-ba25-a9edd32f8184",
   "metadata": {},
   "outputs": [
    {
     "data": {
      "text/plain": [
       "[['eat', 'tea', 'ate'], ['tan', 'nat'], ['bat']]"
      ]
     },
     "execution_count": 3,
     "metadata": {},
     "output_type": "execute_result"
    }
   ],
   "source": [
    "sol.groupAnagrams([\"eat\",\"tea\",\"tan\",\"ate\",\"nat\",\"bat\"])"
   ]
  },
  {
   "cell_type": "markdown",
   "id": "129e637d-d9a4-4d05-85df-e9850e845b9c",
   "metadata": {},
   "source": [
    "## 347. Top K Frequent Elements"
   ]
  },
  {
   "cell_type": "code",
   "execution_count": 67,
   "id": "e9b38f88-38bc-4111-85f8-0d27dadab823",
   "metadata": {},
   "outputs": [],
   "source": [
    "class Solution(object):\n",
    "    def topKFrequent(self, nums, k):\n",
    "        \"\"\"\n",
    "        :type nums: List[int]\n",
    "        :type k: int\n",
    "        :rtype: List[int]\n",
    "        \"\"\"\n",
    "        data = {}\n",
    "\n",
    "        for num in nums:\n",
    "            if not num in data:\n",
    "                data[num] = 1\n",
    "            else:\n",
    "                data[num] += 1\n",
    "        \n",
    "        data = sorted(data.items(), key=lambda x: x[1], reverse=True)\n",
    "        \n",
    "        res = [p[0] for p in data][:k]\n",
    "        res.sort(reverse=True)\n",
    "        return res\n",
    "        #return data\n",
    "        "
   ]
  },
  {
   "cell_type": "markdown",
   "id": "ffe837be-a26c-43f4-9c66-d3a9aef632d0",
   "metadata": {},
   "source": [
    "## 3. Longest Substring Without Repeating Characters (Medium)\n",
    "\n",
    "Given a string s, find the length of the longest substring without duplicate characters.\n",
    "\n",
    " \n",
    "\n",
    "#### Example 1:\n",
    "\n",
    "* Input: s = \"abcabcbb\"\n",
    "* Output: 3\n",
    "* Explanation: The answer is \"abc\", with the length of 3.\n",
    "\n",
    "\n",
    "#### Example 2:\n",
    "\n",
    "* Input: s = \"bbbbb\"\n",
    "* Output: 1\n",
    "* Explanation: The answer is \"b\", with the length of 1.\n",
    "\n",
    "\n",
    "#### Example 3:\n",
    "\n",
    "* Input: s = \"pwwkew\"\n",
    "* Output: 3\n",
    "* Explanation: The answer is \"wke\", with the length of 3.\n",
    "* Notice that the answer must be a substring, \"pwke\" is a subsequence and not a substring.\n",
    " \n",
    "\n",
    "#### Constraints:\n",
    "\n",
    "* 0 <= s.length <= 5 * 104\n",
    "* s consists of English letters, digits, symbols and spaces."
   ]
  },
  {
   "cell_type": "code",
   "execution_count": 214,
   "id": "8e35d4f0-b0ad-4068-a6b2-f4d4155cb07f",
   "metadata": {},
   "outputs": [],
   "source": [
    "class Solution(object):\n",
    "    def lengthOfLongestSubstring(self, s):\n",
    "        \"\"\"\n",
    "        :type s: str\n",
    "        :rtype: int\n",
    "        \"\"\"\n",
    "        if not s:\n",
    "            return 0\n",
    "        n = len(s)\n",
    "        result = []\n",
    "        i, j = 0, 1\n",
    "        while j < n:\n",
    "            #print(f'{i}:{j}')\n",
    "            #print(f'{s[i:j]} and {s[i:j+1]}')\n",
    "            if len(s[i:j]) == len(set(s[i:j+1])):\n",
    "                result.append(s[i:j])\n",
    "                i+=1\n",
    "            else:\n",
    "                j+=1\n",
    "                \n",
    "        result.append(s[i:j])\n",
    "        return len(sorted(result, key=lambda x: len(x), reverse=True)[0])\n",
    "                \n",
    "            \n",
    "            \n",
    "            \n",
    "            \n",
    "        \n",
    "        \n",
    "            "
   ]
  },
  {
   "cell_type": "markdown",
   "id": "9e53347e-3e4e-404b-9c38-2ac1a2a3bda8",
   "metadata": {},
   "source": [
    "## 217. Contains Duplicate (Easy)\n",
    "\n",
    "Given an integer array nums, return true if any value appears at least twice in the array, and return false if every element is distinct.\n",
    "\n",
    " \n",
    "\n",
    "#### Example 1:\n",
    "\n",
    "* Input: nums = [1,2,3,1]\n",
    "\n",
    "* Output: true\n",
    "\n",
    "* Explanation:\n",
    "\n",
    "* The element 1 occurs at the indices 0 and 3.\n",
    "\n",
    "#### Example 2:\n",
    "\n",
    "* Input: nums = [1,2,3,4]\n",
    "\n",
    "* Output: false\n",
    "\n",
    "* Explanation:\n",
    "\n",
    "All elements are distinct.\n",
    "\n",
    "#### Example 3:\n",
    "\n",
    "* Input: nums = [1,1,1,3,3,4,3,2,4,2]\n",
    "\n",
    "* Output: true\n",
    "\n",
    " \n",
    "\n",
    "#### Constraints:\n",
    "\n",
    "* 1 <= nums.length <= 105\n",
    "* -109 <= nums[i] <= 109"
   ]
  },
  {
   "cell_type": "code",
   "execution_count": 225,
   "id": "76ef9d3c-ed95-465a-a305-45aa6aaf690c",
   "metadata": {},
   "outputs": [],
   "source": [
    "class Solution(object):\n",
    "    def containsDuplicate(self, nums):\n",
    "        \"\"\"\n",
    "        :type nums: List[int]\n",
    "        :rtype: bool\n",
    "        \"\"\"\n",
    "\n",
    "        data = {}\n",
    "\n",
    "        for number in nums:\n",
    "            if not number in data:\n",
    "                data[number] = 1\n",
    "            else:\n",
    "                data[number] += 1\n",
    "        \n",
    "        return len(set(nums)) == sum(list(data.values()))\n"
   ]
  },
  {
   "cell_type": "code",
   "execution_count": 226,
   "id": "355f72b5-e6a1-488c-8cb5-a94eda69706a",
   "metadata": {},
   "outputs": [
    {
     "data": {
      "text/plain": [
       "False"
      ]
     },
     "execution_count": 226,
     "metadata": {},
     "output_type": "execute_result"
    }
   ],
   "source": [
    "sol = Solution()\n",
    "sol.containsDuplicate([1,2,3,1])"
   ]
  },
  {
   "cell_type": "markdown",
   "id": "14e3901e-8fb1-4ce4-bff3-67981b301af4",
   "metadata": {},
   "source": [
    "## 648. Replace Words (Medium)\n",
    "\n",
    "In English, we have a concept called root, which can be followed by some other word to form another longer word - let's call this word derivative. For example, when the root \"help\" is followed by the word \"ful\", we can form a derivative \"helpful\".\n",
    "\n",
    "Given a dictionary consisting of many roots and a sentence consisting of words separated by spaces, replace all the derivatives in the sentence with the root forming it. If a derivative can be replaced by more than one root, replace it with the root that has the shortest length.\n",
    "\n",
    "Return the sentence after the replacement.\n",
    "\n",
    " \n",
    "\n",
    "### Example 1:\n",
    "\n",
    "* Input: dictionary = [\"cat\",\"bat\",\"rat\"], sentence = \"the cattle was rattled by the battery\"\n",
    "* Output: \"the cat was rat by the bat\"\n",
    "\n",
    "\n",
    "### Example 2:\n",
    "\n",
    "* Input: dictionary = [\"a\",\"b\",\"c\"], sentence = \"aadsfasf absbs bbab cadsfafs\"\n",
    "* Output: \"a a b c\"\n",
    " \n",
    "\n",
    "### Constraints:\n",
    "\n",
    "* 1 <= dictionary.length <= 1000\n",
    "* 1 <= dictionary[i].length <= 100\n",
    "* dictionary[i] consists of only lower-case letters.\n",
    "* 1 <= sentence.length <= 106\n",
    "* sentence consists of only lower-case letters and spaces.\n",
    "* The number of words in sentence is in the range [1, 1000]\n",
    "* The length of each word in sentence is in the range [1, 1000]\n",
    "* Every two consecutive words in sentence will be separated by exactly one space.\n",
    "* sentence does not have leading or trailing spaces."
   ]
  },
  {
   "cell_type": "code",
   "execution_count": 15,
   "id": "64f78694-577e-4bc4-8d74-377ab8e7f11b",
   "metadata": {},
   "outputs": [],
   "source": [
    "class Solution(object):\n",
    "    def replaceWords(self, dictionary, sentence):\n",
    "        \"\"\"\n",
    "        :type dictionary: List[str]\n",
    "        :type sentence: str\n",
    "        :rtype: str\n",
    "        \"\"\"\n",
    "        data = {}\n",
    "        words =  sentence.split()\n",
    "        dictionary = sorted(dictionary, key=lambda x: len(x))\n",
    "        for word in words:\n",
    "            for root in dictionary:\n",
    "                if word.startswith(root) and not word in data:\n",
    "                    data[word] = root\n",
    "\n",
    "        \n",
    "        n = len(words)\n",
    "        for i in range(n):\n",
    "            if words[i] in data:\n",
    "                words[i] = data[words[i]]\n",
    "\n",
    "        return ' '.join(words)    "
   ]
  },
  {
   "cell_type": "markdown",
   "id": "7bfd14fe-f685-4f87-9539-b5eb80b1eef8",
   "metadata": {},
   "source": [
    "## 451. Sort Characters By Frequency (Medium)\n",
    "\n",
    "Given a string s, sort it in decreasing order based on the frequency of the characters. The frequency of a character is the number of times it appears in the string.\n",
    "\n",
    "Return the sorted string. If there are multiple answers, return any of them.\n",
    "\n",
    " \n",
    "\n",
    "### Example 1:\n",
    "\n",
    "* Input: s = \"tree\"\n",
    "* Output: \"eert\"\n",
    "* Explanation: 'e' appears twice while 'r' and 't' both appear once.\n",
    "  So 'e' must appear before both 'r' and 't'. Therefore \"eetr\" is also a valid answer.\n",
    "\n",
    "### Example 2:\n",
    "\n",
    "* Input: s = \"cccaaa\"\n",
    "* Output: \"aaaccc\"\n",
    "* Explanation: Both 'c' and 'a' appear three times, so both \"cccaaa\" and \"aaaccc\" are valid answers.\n",
    "* Note that \"cacaca\" is incorrect, as the same characters must be together.\n",
    "\n",
    "\n",
    "### Example 3:\n",
    "\n",
    "* Input: s = \"Aabb\"\n",
    "* Output: \"bbAa\"\n",
    "* Explanation: \"bbaA\" is also a valid answer, but \"Aabb\" is incorrect.\n",
    "* Note that 'A' and 'a' are treated as two different characters.\n",
    " \n",
    "\n",
    "### Constraints:\n",
    "\n",
    "* 1 <= s.length <= 5 * 105\n",
    "* s consists of uppercase and lowercase English letters and digits."
   ]
  },
  {
   "cell_type": "code",
   "execution_count": 22,
   "id": "fb3c46e9-0523-4981-9993-874d94858f8a",
   "metadata": {},
   "outputs": [],
   "source": [
    "class Solution(object):\n",
    "    def frequencySort(self, s):\n",
    "        \"\"\"\n",
    "        :type s: str\n",
    "        :rtype: str\n",
    "        \"\"\"\n",
    "        data = {}\n",
    "        for char in s:\n",
    "            if char not in data:\n",
    "                data[char] = 1\n",
    "            else:\n",
    "                data[char] += 1\n",
    "\n",
    "        data = sorted(data.items(), key=lambda x: x[1], reverse=True)\n",
    "        result = ''\n",
    "        for i in data:\n",
    "            result += i[0]*i[1]\n",
    "\n",
    "        return result"
   ]
  },
  {
   "cell_type": "code",
   "execution_count": 25,
   "id": "50895727-145a-4753-9668-c082c659df33",
   "metadata": {},
   "outputs": [
    {
     "data": {
      "text/plain": [
       "'eetr'"
      ]
     },
     "execution_count": 25,
     "metadata": {},
     "output_type": "execute_result"
    }
   ],
   "source": [
    "sol = Solution()\n",
    "sol.frequencySort(\"tree\")"
   ]
  },
  {
   "cell_type": "markdown",
   "id": "179c0a2f-7325-45db-b8e7-8580e4c68229",
   "metadata": {},
   "source": [
    "## 811. Subdomain Visit Count (Medium)\n",
    "\n",
    "A website domain \"discuss.leetcode.com\" consists of various subdomains. At the top level, we have \"com\", at the next level, we have \"leetcode.com\" and at the lowest level, \"discuss.leetcode.com\". When we visit a domain like \"discuss.leetcode.com\", we will also visit the parent domains \"leetcode.com\" and \"com\" implicitly.\n",
    "\n",
    "A count-paired domain is a domain that has one of the two formats \"rep d1.d2.d3\" or \"rep d1.d2\" where rep is the number of visits to the domain and d1.d2.d3 is the domain itself.\n",
    "\n",
    "For example, \"9001 discuss.leetcode.com\" is a count-paired domain that indicates that discuss.leetcode.com was visited 9001 times.\n",
    "Given an array of count-paired domains cpdomains, return an array of the count-paired domains of each subdomain in the input. You may return the answer in any order.\n",
    "\n",
    " \n",
    "\n",
    "### Example 1:\n",
    "\n",
    "* Input: cpdomains = [\"9001 discuss.leetcode.com\"]\n",
    "* Output: [\"9001 leetcode.com\",\"9001 discuss.leetcode.com\",\"9001 com\"]\n",
    "* Explanation: We only have one website domain: \"discuss.leetcode.com\".\n",
    "* As discussed above, the subdomain \"leetcode.com\" and \"com\" will also be visited. So they will all be visited 9001 times.\n",
    "\n",
    "\n",
    "### Example 2:\n",
    "\n",
    "* Input: cpdomains = [\"900 google.mail.com\", \"50 yahoo.com\", \"1 intel.mail.com\", \"5 wiki.org\"]\n",
    "* Output: [\"901 mail.com\",\"50 yahoo.com\",\"900 google.mail.com\",\"5 wiki.org\",\"5 org\",\"1 intel.mail.com\",\"951 com\"]\n",
    "* Explanation: We will visit \"google.mail.com\" 900 times, \"yahoo.com\" 50 times, \"intel.mail.com\" once and \"wiki.org\" 5 times.\n",
    "* For the subdomains, we will visit \"mail.com\" 900 + 1 = 901 times, \"com\" 900 + 50 + 1 = 951 times, and \"org\" 5 times.\n",
    " \n",
    "\n",
    "### Constraints:\n",
    "\n",
    "* 1 <= cpdomain.length <= 100\n",
    "* 1 <= cpdomain[i].length <= 100\n",
    "* cpdomain[i] follows either the \"repi d1i.d2i.d3i\" format or the \"repi d1i.d2i\" format.\n",
    "* repi is an integer in the range [1, 104].\n",
    "* d1i, d2i, and d3i consist of lowercase English letters."
   ]
  },
  {
   "cell_type": "code",
   "execution_count": 59,
   "id": "cc36c932-c434-46a1-b7ac-2afdbe58b89e",
   "metadata": {},
   "outputs": [],
   "source": [
    "class Solution(object):\n",
    "    def subdomainVisits(self, cpdomains):\n",
    "        \"\"\"\n",
    "        :type cpdomains: List[str]\n",
    "        :rtype: List[str]\n",
    "        \"\"\"\n",
    "        info = []\n",
    "        data = {}\n",
    "        \n",
    "        for subdomain in cpdomains:\n",
    "            tmp = subdomain.split()\n",
    "            if len(tmp) == 2:\n",
    "                count = int(tmp[0])\n",
    "                domains = tmp[1].split('.')\n",
    "            \n",
    "                n = len(domains)\n",
    "                #for domain in domains:\n",
    "                for i in range(n):\n",
    "                    if not '.'.join(domains[i:]) in data:\n",
    "                        data['.'.join(domains[i:])] = count\n",
    "                    else:\n",
    "                        data['.'.join(domains[i:])] += count\n",
    "                info.append([count, domains])\n",
    "\n",
    "    \n",
    "        result = [f\"{v} {k}\" for k, v in data.items()] \n",
    "\n",
    "        #return info\n",
    "        return result\n",
    "        "
   ]
  },
  {
   "cell_type": "code",
   "execution_count": 60,
   "id": "eba92493-b656-43b7-b49a-b272f075d9d8",
   "metadata": {},
   "outputs": [
    {
     "data": {
      "text/plain": [
       "['900 google.mail.com',\n",
       " '901 mail.com',\n",
       " '951 com',\n",
       " '50 yahoo.com',\n",
       " '1 intel.mail.com',\n",
       " '5 wiki.org',\n",
       " '5 org']"
      ]
     },
     "execution_count": 60,
     "metadata": {},
     "output_type": "execute_result"
    }
   ],
   "source": [
    "sol = Solution()\n",
    "sol.subdomainVisits([\"900 google.mail.com\", \"50 yahoo.com\", \"1 intel.mail.com\", \"5 wiki.org\"])"
   ]
  },
  {
   "cell_type": "code",
   "execution_count": 61,
   "id": "64d42407-2ca4-4381-9a4d-4f68818114a2",
   "metadata": {},
   "outputs": [
    {
     "data": {
      "text/plain": [
       "['901 mail.com',\n",
       " '50 yahoo.com',\n",
       " '900 google.mail.com',\n",
       " '5 wiki.org',\n",
       " '5 org',\n",
       " '1 intel.mail.com',\n",
       " '951 com']"
      ]
     },
     "execution_count": 61,
     "metadata": {},
     "output_type": "execute_result"
    }
   ],
   "source": [
    "[\"901 mail.com\",\"50 yahoo.com\",\"900 google.mail.com\",\"5 wiki.org\",\"5 org\",\"1 intel.mail.com\",\"951 com\"]"
   ]
  },
  {
   "cell_type": "markdown",
   "id": "ce99cde4-6690-48f5-bed1-1152e02ff1f3",
   "metadata": {},
   "source": [
    "## 47. Permutations II (Medium) (VERY BAD SOLUTION)\n",
    "\n",
    "Given a collection of numbers, nums, that might contain duplicates, return all possible unique permutations in any order.\n",
    "\n",
    " \n",
    "\n",
    "### Example 1:\n",
    "\n",
    "* Input: nums = [1,1,2]\n",
    "* Output:\n",
    "[[1,1,2],\n",
    " [1,2,1],\n",
    " [2,1,1]]\n",
    "\n",
    "\n",
    "### Example 2:\n",
    "\n",
    "* Input: nums = [1,2,3]\n",
    "* Output: [[1,2,3],[1,3,2],[2,1,3],[2,3,1],[3,1,2],[3,2,1]]\n",
    " \n",
    "\n",
    "### Constraints:\n",
    "\n",
    "* 1 <= nums.length <= 8\n",
    "* -10 <= nums[i] <= 10"
   ]
  },
  {
   "cell_type": "code",
   "execution_count": 91,
   "id": "0b53f9d0-5d93-4560-9e42-ad459fbdcfea",
   "metadata": {},
   "outputs": [],
   "source": [
    "def permute(nums):\n",
    "    result = []\n",
    "    n = len(nums)\n",
    "    if n == 1:\n",
    "        return [nums]\n",
    "\n",
    "    for i in range(n):\n",
    "        for l in permute(nums[:i]+nums[i+1:]):\n",
    "            result.append([nums[i]]+l)\n",
    "\n",
    "    return result\n",
    "    \n",
    "class Solution:\n",
    "    def permuteUnique(self, nums):\n",
    "        result = []\n",
    "        nums = permute(nums)\n",
    "        for permut in nums:\n",
    "            if permut not in result:\n",
    "                result.append(permut)\n",
    "\n",
    "        return result\n",
    "    \n",
    "        \n",
    "        "
   ]
  },
  {
   "cell_type": "code",
   "execution_count": 92,
   "id": "c8b99726-d51f-461e-ba63-2c67ccc15e93",
   "metadata": {},
   "outputs": [],
   "source": [
    "sol = Solution()"
   ]
  },
  {
   "cell_type": "code",
   "execution_count": 90,
   "id": "1963b448-73d6-4d9f-b656-17b25154d2ea",
   "metadata": {},
   "outputs": [
    {
     "data": {
      "text/plain": [
       "[[1, 1, 1]]"
      ]
     },
     "execution_count": 90,
     "metadata": {},
     "output_type": "execute_result"
    }
   ],
   "source": [
    "sol.permuteUnique([1, 1, 1])"
   ]
  },
  {
   "cell_type": "markdown",
   "id": "aabd4283-d788-47fb-aec2-d38d7510d52e",
   "metadata": {},
   "source": [
    "## 2181. Merge Nodes in Between Zeros (Medium)\n",
    "\n",
    "You are given the head of a linked list, which contains a series of integers separated by 0's. The beginning and end of the linked list will have Node.val == 0.\n",
    "\n",
    "For every two consecutive 0's, merge all the nodes lying in between them into a single node whose value is the sum of all the merged nodes. The modified list should not contain any 0's.\n",
    "\n",
    "Return the head of the modified linked list.\n",
    "\n",
    "### Example 1:\n",
    "\n",
    "* Input: head = [0,3,1,0,4,5,2,0]\n",
    "* Output: [4,11]\n",
    "* Explanation: \n",
    "* The above figure represents the given linked list. The modified list contains\n",
    "- The sum of the nodes marked in green: 3 + 1 = 4.\n",
    "- The sum of the nodes marked in red: 4 + 5 + 2 = 11.\n",
    "\n",
    "\n",
    "### Example 2:\n",
    "\n",
    "* Input: head = [0,1,0,3,0,2,2,0]\n",
    "* Output: [1,3,4]\n",
    "* Explanation: \n",
    "* The above figure represents the given linked list. The modified list contains\n",
    "- The sum of the nodes marked in green: 1 = 1.\n",
    "- The sum of the nodes marked in red: 3 = 3.\n",
    "- The sum of the nodes marked in yellow: 2 + 2 = 4.\n",
    " \n",
    "\n",
    "### Constraints:\n",
    "\n",
    "* The number of nodes in the list is in the range [3, 2 * 105].\n",
    "* 0 <= Node.val <= 1000\n",
    "* There are no two consecutive nodes with Node.val == 0.\n",
    "* The beginning and end of the linked list have Node.val == 0.\n"
   ]
  },
  {
   "cell_type": "code",
   "execution_count": 95,
   "id": "c15d834f-2b11-4bd0-8e38-3a49592783c1",
   "metadata": {},
   "outputs": [],
   "source": [
    "# Definition for singly-linked list.\n",
    "class ListNode:\n",
    "    def __init__(self, val=0, next=None):\n",
    "        self.val = val\n",
    "        self.next = next\n",
    "        \n",
    "class Solution:\n",
    "    def mergeNodes(self, head):\n",
    "        while head.next != None:\n",
    "            if head.val =\n",
    "        "
   ]
  },
  {
   "cell_type": "markdown",
   "id": "15fd05e8-1c8a-4d71-b60f-3f1268e9f4eb",
   "metadata": {},
   "source": [
    "## 2352. Equal Row and Column Pairs (Medium)\n",
    "Given a 0-indexed n x n integer matrix grid, return the number of pairs (ri, cj) such that row ri and column cj are equal.\n",
    "\n",
    "A row and column pair is considered equal if they contain the same elements in the same order (i.e., an equal array).\n",
    "\n",
    " \n",
    "\n",
    "### Example 1:\n",
    "\n",
    "\n",
    "* Input: grid = [[3,2,1],[1,7,6],[2,7,7]]\n",
    "* Output: 1\n",
    "* Explanation: There is 1 equal row and column pair:\n",
    "- (Row 2, Column 1): [2,7,7]\n",
    "\n",
    "\n",
    "### Example 2:\n",
    "\n",
    "\n",
    "* Input: grid = [[3,1,2,2],[1,4,4,5],[2,4,2,2],[2,4,2,2]]\n",
    "* Output: 3\n",
    "* Explanation: There are 3 equal row and column pairs:\n",
    "- (Row 0, Column 0): [3,1,2,2]\n",
    "- (Row 2, Column 2): [2,4,2,2]\n",
    "- (Row 3, Column 2): [2,4,2,2]\n",
    " \n",
    "\n",
    "### Constraints:\n",
    "\n",
    "* n == grid.length == grid[i].length\n",
    "* 1 <= n <= 200\n",
    "* 1 <= grid[i][j] <= 105"
   ]
  },
  {
   "cell_type": "code",
   "execution_count": 20,
   "id": "71965a50-3267-4197-abbf-733633ee56c0",
   "metadata": {},
   "outputs": [],
   "source": [
    "class Solution:\n",
    "    def equalPairs(self, grid):\n",
    "     \n",
    "        n = len(grid)\n",
    "        result = 0\n",
    "        columns = [[] for _ in range(len(grid[0]))]      \n",
    "\n",
    "        for i in range(n):\n",
    "            m = len(grid[i])\n",
    "            for j in range(m):\n",
    "                columns[j].append(grid[i][j])           \n",
    "\n",
    "\n",
    "        #print(columns)\n",
    "\n",
    "        for row in grid:\n",
    "            for col in columns:\n",
    "                if row == col:\n",
    "                    result += 1\n",
    "\n",
    "        return result\n",
    "                    \n",
    "\n",
    "\n",
    "        \n",
    "        "
   ]
  },
  {
   "cell_type": "code",
   "execution_count": 21,
   "id": "a2483d41-0b49-44e3-80f3-d73a1c2f78a6",
   "metadata": {},
   "outputs": [
    {
     "name": "stdout",
     "output_type": "stream",
     "text": [
      "[[3, 1, 2, 2], [1, 4, 4, 5], [2, 4, 2, 2], [2, 4, 2, 2]]\n"
     ]
    },
    {
     "data": {
      "text/plain": [
       "3"
      ]
     },
     "execution_count": 21,
     "metadata": {},
     "output_type": "execute_result"
    }
   ],
   "source": [
    "sol = Solution()\n",
    "grid = [[3,1,2,2],[1,4,4,4],[2,4,2,2],[2,5,2,2]]\n",
    "sol.equalPairs(grid)"
   ]
  },
  {
   "cell_type": "markdown",
   "id": "4149d4f2-d607-452b-9db4-43956c1eb6e1",
   "metadata": {},
   "source": [
    "## 237. Delete Node in a Linked List (Medium)\n",
    "\n",
    "There is a singly-linked list head and we want to delete a node node in it.\n",
    "\n",
    "You are given the node to be deleted node. You will not be given access to the first node of head.\n",
    "\n",
    "All the values of the linked list are unique, and it is guaranteed that the given node node is not the last node in the linked list.\n",
    "\n",
    "### Delete the given node. Note that by deleting the node, we do not mean removing it from memory. We mean:\n",
    "\n",
    "* The value of the given node should not exist in the linked list.\n",
    "* The number of nodes in the linked list should decrease by one.\n",
    "* All the values before node should be in the same order.\n",
    "* All the values after node should be in the same order.\n",
    "\n",
    "### Custom testing:\n",
    "\n",
    "* For the input, you should provide the entire linked list head and the node to be given node. node should not be the last node of the list and should be an actual node in the list.\n",
    "* We will build the linked list and pass the node to your function.\n",
    "* The output will be the entire list after calling your function.\n",
    " \n",
    "\n",
    "### Example 1:\n",
    "![Alt text](images/237/1.png \"Optional Title\")\n",
    "\n",
    "* Input: head = [4,5,1,9], node = 5\n",
    "* Output: [4,1,9]\n",
    "* Explanation: You are given the second node with value 5, the linked list should become 4 -> 1 -> 9 after calling your function.\n",
    "\n",
    "### Example 2:\n",
    "![Alt text](images/237/2.png \"Optional Title\")\n",
    "\n",
    "* Input: head = [4,5,1,9], node = 1\n",
    "* Output: [4,5,9]\n",
    "* Explanation: You are given the third node with value 1, the linked list should become 4 -> 5 -> 9 after calling your function.\n",
    " \n",
    "\n",
    "### Constraints:\n",
    "\n",
    "* The number of the nodes in the given list is in the range [2, 1000].\n",
    "* -1000 <= Node.val <= 1000\n",
    "* The value of each node in the list is unique.\n",
    "* The node to be deleted is in the list and is not a tail node."
   ]
  },
  {
   "cell_type": "code",
   "execution_count": 2,
   "id": "b54489ae-4b15-474d-96d2-cb804c468ca5",
   "metadata": {},
   "outputs": [],
   "source": [
    "class ListNode(object):\n",
    "    def __init__(self, x):\n",
    "        self.val = x\n",
    "        self.next = None\n",
    "\n",
    "class Solution(object):\n",
    "    def deleteNode(self, node):\n",
    "        \"\"\"\n",
    "        :type node: ListNode\n",
    "        :rtype: void Do not return anything, modify node in-place instead.\n",
    "        \"\"\"\n",
    "        if node.next != None:\n",
    "            next = node.next\n",
    "            node.val = next.val\n",
    "            node.next = next.next\n",
    "\n",
    "            \n",
    "        "
   ]
  },
  {
   "cell_type": "code",
   "execution_count": null,
   "id": "c26a85e1-7037-425a-9ad1-255ad33d29c2",
   "metadata": {},
   "outputs": [],
   "source": []
  }
 ],
 "metadata": {
  "kernelspec": {
   "display_name": "Python 3 (ipykernel)",
   "language": "python",
   "name": "python3"
  },
  "language_info": {
   "codemirror_mode": {
    "name": "ipython",
    "version": 3
   },
   "file_extension": ".py",
   "mimetype": "text/x-python",
   "name": "python",
   "nbconvert_exporter": "python",
   "pygments_lexer": "ipython3",
   "version": "3.13.5"
  }
 },
 "nbformat": 4,
 "nbformat_minor": 5
}
